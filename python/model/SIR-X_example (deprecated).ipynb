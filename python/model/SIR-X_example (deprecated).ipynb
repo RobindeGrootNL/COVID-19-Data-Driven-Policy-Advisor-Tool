{
 "cells": [
  {
   "cell_type": "markdown",
   "metadata": {},
   "source": [
    "# SIR-X"
   ]
  },
  {
   "cell_type": "markdown",
   "metadata": {},
   "source": [
    "This notebook exemplifies how Open-SIR can be used to fit the SIR-X model by [Maier and Dirk (2020)](https://science.sciencemag.org/content/early/2020/04/07/science.abb4557.full) to existing data and make predictions. The SIR-X model is an standard generalization of the Susceptible-Infectious-Removed (SIR) model, which includes the influence of exogeneous factors such as policy changes, lockdown of the whole population and quarantine of the infectious individuals.\n",
    "\n",
    "To validate the Open-SIR implementation of the SIR-X model, it will be attempted to reproduce the parameter fitting published in the [suplementary material](https://science.sciencemag.org/cgi/content/full/science.abb4557/DC1) of the original recent article published by [Maier and Dirk (2020)](https://science.sciencemag.org/content/early/2020/04/07/science.abb4557.full). For simplicity, the validation will be performed only for the city of Guangdong, China."
   ]
  },
  {
   "cell_type": "markdown",
   "metadata": {},
   "source": [
    "## Import modules"
   ]
  },
  {
   "cell_type": "code",
   "execution_count": 3,
   "metadata": {},
   "outputs": [],
   "source": [
    "# Import packages\n",
    "import pandas as pd\n",
    "import matplotlib.pyplot as plt"
   ]
  },
  {
   "cell_type": "markdown",
   "metadata": {},
   "source": [
    "## Data sourcing"
   ]
  },
  {
   "cell_type": "markdown",
   "metadata": {},
   "source": [
    "We will source data from the repository of the [John Hopkins University COVID-19 dashboard] (https://coronavirus.jhu.edu/map.html) published formally as a correspondence in [The Lancet](https://www.thelancet.com/journals/laninf/article/PIIS1473-3099(20)30120-1/fulltext#seccestitle10). This time series data contains the number of reported cases $C(t)$ per day for a number of cities.\n",
    "\n"
   ]
  },
  {
   "cell_type": "code",
   "execution_count": 2,
   "metadata": {},
   "outputs": [
    {
     "data": {
      "text/html": [
       "<div>\n",
       "<style scoped>\n",
       "    .dataframe tbody tr th:only-of-type {\n",
       "        vertical-align: middle;\n",
       "    }\n",
       "\n",
       "    .dataframe tbody tr th {\n",
       "        vertical-align: top;\n",
       "    }\n",
       "\n",
       "    .dataframe thead th {\n",
       "        text-align: right;\n",
       "    }\n",
       "</style>\n",
       "<table border=\"1\" class=\"dataframe\">\n",
       "  <thead>\n",
       "    <tr style=\"text-align: right;\">\n",
       "      <th></th>\n",
       "      <th>Province/States</th>\n",
       "      <th>Country/Region</th>\n",
       "      <th>WHO region</th>\n",
       "      <th>1/21/2020</th>\n",
       "      <th>1/22/2020</th>\n",
       "      <th>1/23/2020</th>\n",
       "      <th>1/24/2020</th>\n",
       "      <th>1/25/2020</th>\n",
       "      <th>1/26/2020</th>\n",
       "      <th>1/27/2020</th>\n",
       "      <th>...</th>\n",
       "      <th>3/25/2020</th>\n",
       "      <th>3/26/2020</th>\n",
       "      <th>3/27/2020</th>\n",
       "      <th>3/28/2020</th>\n",
       "      <th>3/29/2020</th>\n",
       "      <th>3/30/2020</th>\n",
       "      <th>3/31/2020</th>\n",
       "      <th>4/1/2020</th>\n",
       "      <th>4/2/2020</th>\n",
       "      <th>4/3/2020</th>\n",
       "    </tr>\n",
       "  </thead>\n",
       "  <tbody>\n",
       "    <tr>\n",
       "      <th>0</th>\n",
       "      <td>Confirmed</td>\n",
       "      <td>Globally</td>\n",
       "      <td>NaN</td>\n",
       "      <td>282.0</td>\n",
       "      <td>314.0</td>\n",
       "      <td>581.0</td>\n",
       "      <td>846.0</td>\n",
       "      <td>1320.0</td>\n",
       "      <td>2014.0</td>\n",
       "      <td>2798.0</td>\n",
       "      <td>...</td>\n",
       "      <td>413467.0</td>\n",
       "      <td>462684.0</td>\n",
       "      <td>509164.0</td>\n",
       "      <td>571659.0</td>\n",
       "      <td>634813.0</td>\n",
       "      <td>693282.0</td>\n",
       "      <td>750890.0</td>\n",
       "      <td>823626.0</td>\n",
       "      <td>896450.0</td>\n",
       "      <td>972303.0</td>\n",
       "    </tr>\n",
       "    <tr>\n",
       "      <th>1</th>\n",
       "      <td>Deaths</td>\n",
       "      <td>Globally</td>\n",
       "      <td>NaN</td>\n",
       "      <td>NaN</td>\n",
       "      <td>NaN</td>\n",
       "      <td>NaN</td>\n",
       "      <td>NaN</td>\n",
       "      <td>NaN</td>\n",
       "      <td>NaN</td>\n",
       "      <td>NaN</td>\n",
       "      <td>...</td>\n",
       "      <td>18433.0</td>\n",
       "      <td>20834.0</td>\n",
       "      <td>23335.0</td>\n",
       "      <td>26493.0</td>\n",
       "      <td>29891.0</td>\n",
       "      <td>33106.0</td>\n",
       "      <td>36405.0</td>\n",
       "      <td>40598.0</td>\n",
       "      <td>45525.0</td>\n",
       "      <td>50321.0</td>\n",
       "    </tr>\n",
       "    <tr>\n",
       "      <th>2</th>\n",
       "      <td>Confirmed</td>\n",
       "      <td>China</td>\n",
       "      <td>Western Pacific Region</td>\n",
       "      <td>278.0</td>\n",
       "      <td>309.0</td>\n",
       "      <td>571.0</td>\n",
       "      <td>830.0</td>\n",
       "      <td>1297.0</td>\n",
       "      <td>1985.0</td>\n",
       "      <td>2741.0</td>\n",
       "      <td>...</td>\n",
       "      <td>81848.0</td>\n",
       "      <td>81961.0</td>\n",
       "      <td>82078.0</td>\n",
       "      <td>82230.0</td>\n",
       "      <td>82341.0</td>\n",
       "      <td>82447.0</td>\n",
       "      <td>82545.0</td>\n",
       "      <td>82631.0</td>\n",
       "      <td>82724.0</td>\n",
       "      <td>82802.0</td>\n",
       "    </tr>\n",
       "    <tr>\n",
       "      <th>3</th>\n",
       "      <td>Confirmed</td>\n",
       "      <td>Outside of China</td>\n",
       "      <td>NaN</td>\n",
       "      <td>4.0</td>\n",
       "      <td>5.0</td>\n",
       "      <td>10.0</td>\n",
       "      <td>16.0</td>\n",
       "      <td>23.0</td>\n",
       "      <td>29.0</td>\n",
       "      <td>57.0</td>\n",
       "      <td>...</td>\n",
       "      <td>331619.0</td>\n",
       "      <td>380723.0</td>\n",
       "      <td>427086.0</td>\n",
       "      <td>489429.0</td>\n",
       "      <td>552472.0</td>\n",
       "      <td>610835.0</td>\n",
       "      <td>668345.0</td>\n",
       "      <td>740995.0</td>\n",
       "      <td>813726.0</td>\n",
       "      <td>889501.0</td>\n",
       "    </tr>\n",
       "    <tr>\n",
       "      <th>4</th>\n",
       "      <td>Deaths</td>\n",
       "      <td>China</td>\n",
       "      <td>Western Pacific Region</td>\n",
       "      <td>NaN</td>\n",
       "      <td>NaN</td>\n",
       "      <td>NaN</td>\n",
       "      <td>NaN</td>\n",
       "      <td>NaN</td>\n",
       "      <td>NaN</td>\n",
       "      <td>80.0</td>\n",
       "      <td>...</td>\n",
       "      <td>3287.0</td>\n",
       "      <td>3293.0</td>\n",
       "      <td>3298.0</td>\n",
       "      <td>3301.0</td>\n",
       "      <td>3306.0</td>\n",
       "      <td>3310.0</td>\n",
       "      <td>3314.0</td>\n",
       "      <td>3321.0</td>\n",
       "      <td>3327.0</td>\n",
       "      <td>3331.0</td>\n",
       "    </tr>\n",
       "    <tr>\n",
       "      <th>5</th>\n",
       "      <td>Hubei</td>\n",
       "      <td>China</td>\n",
       "      <td>Western Pacific Region</td>\n",
       "      <td>258.0</td>\n",
       "      <td>270.0</td>\n",
       "      <td>375.0</td>\n",
       "      <td>375.0</td>\n",
       "      <td>NaN</td>\n",
       "      <td>NaN</td>\n",
       "      <td>NaN</td>\n",
       "      <td>...</td>\n",
       "      <td>NaN</td>\n",
       "      <td>NaN</td>\n",
       "      <td>NaN</td>\n",
       "      <td>NaN</td>\n",
       "      <td>NaN</td>\n",
       "      <td>NaN</td>\n",
       "      <td>NaN</td>\n",
       "      <td>NaN</td>\n",
       "      <td>NaN</td>\n",
       "      <td>NaN</td>\n",
       "    </tr>\n",
       "    <tr>\n",
       "      <th>6</th>\n",
       "      <td>Guangdong</td>\n",
       "      <td>China</td>\n",
       "      <td>Western Pacific Region</td>\n",
       "      <td>14.0</td>\n",
       "      <td>17.0</td>\n",
       "      <td>26.0</td>\n",
       "      <td>32.0</td>\n",
       "      <td>NaN</td>\n",
       "      <td>NaN</td>\n",
       "      <td>NaN</td>\n",
       "      <td>...</td>\n",
       "      <td>NaN</td>\n",
       "      <td>NaN</td>\n",
       "      <td>NaN</td>\n",
       "      <td>NaN</td>\n",
       "      <td>NaN</td>\n",
       "      <td>NaN</td>\n",
       "      <td>NaN</td>\n",
       "      <td>NaN</td>\n",
       "      <td>NaN</td>\n",
       "      <td>NaN</td>\n",
       "    </tr>\n",
       "    <tr>\n",
       "      <th>7</th>\n",
       "      <td>Henan</td>\n",
       "      <td>China</td>\n",
       "      <td>Western Pacific Region</td>\n",
       "      <td>NaN</td>\n",
       "      <td>1.0</td>\n",
       "      <td>1.0</td>\n",
       "      <td>1.0</td>\n",
       "      <td>NaN</td>\n",
       "      <td>NaN</td>\n",
       "      <td>NaN</td>\n",
       "      <td>...</td>\n",
       "      <td>NaN</td>\n",
       "      <td>NaN</td>\n",
       "      <td>NaN</td>\n",
       "      <td>NaN</td>\n",
       "      <td>NaN</td>\n",
       "      <td>NaN</td>\n",
       "      <td>NaN</td>\n",
       "      <td>NaN</td>\n",
       "      <td>NaN</td>\n",
       "      <td>NaN</td>\n",
       "    </tr>\n",
       "    <tr>\n",
       "      <th>8</th>\n",
       "      <td>Zhejiang</td>\n",
       "      <td>China</td>\n",
       "      <td>Western Pacific Region</td>\n",
       "      <td>NaN</td>\n",
       "      <td>5.0</td>\n",
       "      <td>5.0</td>\n",
       "      <td>5.0</td>\n",
       "      <td>NaN</td>\n",
       "      <td>NaN</td>\n",
       "      <td>NaN</td>\n",
       "      <td>...</td>\n",
       "      <td>NaN</td>\n",
       "      <td>NaN</td>\n",
       "      <td>NaN</td>\n",
       "      <td>NaN</td>\n",
       "      <td>NaN</td>\n",
       "      <td>NaN</td>\n",
       "      <td>NaN</td>\n",
       "      <td>NaN</td>\n",
       "      <td>NaN</td>\n",
       "      <td>NaN</td>\n",
       "    </tr>\n",
       "    <tr>\n",
       "      <th>9</th>\n",
       "      <td>Hunan</td>\n",
       "      <td>China</td>\n",
       "      <td>Western Pacific Region</td>\n",
       "      <td>NaN</td>\n",
       "      <td>1.0</td>\n",
       "      <td>1.0</td>\n",
       "      <td>1.0</td>\n",
       "      <td>NaN</td>\n",
       "      <td>NaN</td>\n",
       "      <td>NaN</td>\n",
       "      <td>...</td>\n",
       "      <td>NaN</td>\n",
       "      <td>NaN</td>\n",
       "      <td>NaN</td>\n",
       "      <td>NaN</td>\n",
       "      <td>NaN</td>\n",
       "      <td>NaN</td>\n",
       "      <td>NaN</td>\n",
       "      <td>NaN</td>\n",
       "      <td>NaN</td>\n",
       "      <td>NaN</td>\n",
       "    </tr>\n",
       "  </tbody>\n",
       "</table>\n",
       "<p>10 rows × 77 columns</p>\n",
       "</div>"
      ],
      "text/plain": [
       "  Province/States    Country/Region              WHO region  1/21/2020  \\\n",
       "0       Confirmed          Globally                     NaN      282.0   \n",
       "1          Deaths          Globally                     NaN        NaN   \n",
       "2       Confirmed             China  Western Pacific Region      278.0   \n",
       "3       Confirmed  Outside of China                     NaN        4.0   \n",
       "4          Deaths             China  Western Pacific Region        NaN   \n",
       "5          Hubei              China  Western Pacific Region      258.0   \n",
       "6       Guangdong             China  Western Pacific Region       14.0   \n",
       "7           Henan             China  Western Pacific Region        NaN   \n",
       "8        Zhejiang             China  Western Pacific Region        NaN   \n",
       "9           Hunan             China  Western Pacific Region        NaN   \n",
       "\n",
       "   1/22/2020  1/23/2020  1/24/2020  1/25/2020  1/26/2020  1/27/2020  ...  \\\n",
       "0      314.0      581.0      846.0     1320.0     2014.0     2798.0  ...   \n",
       "1        NaN        NaN        NaN        NaN        NaN        NaN  ...   \n",
       "2      309.0      571.0      830.0     1297.0     1985.0     2741.0  ...   \n",
       "3        5.0       10.0       16.0       23.0       29.0       57.0  ...   \n",
       "4        NaN        NaN        NaN        NaN        NaN       80.0  ...   \n",
       "5      270.0      375.0      375.0        NaN        NaN        NaN  ...   \n",
       "6       17.0       26.0       32.0        NaN        NaN        NaN  ...   \n",
       "7        1.0        1.0        1.0        NaN        NaN        NaN  ...   \n",
       "8        5.0        5.0        5.0        NaN        NaN        NaN  ...   \n",
       "9        1.0        1.0        1.0        NaN        NaN        NaN  ...   \n",
       "\n",
       "   3/25/2020  3/26/2020  3/27/2020  3/28/2020  3/29/2020  3/30/2020  \\\n",
       "0   413467.0   462684.0   509164.0   571659.0   634813.0   693282.0   \n",
       "1    18433.0    20834.0    23335.0    26493.0    29891.0    33106.0   \n",
       "2    81848.0    81961.0    82078.0    82230.0    82341.0    82447.0   \n",
       "3   331619.0   380723.0   427086.0   489429.0   552472.0   610835.0   \n",
       "4     3287.0     3293.0     3298.0     3301.0     3306.0     3310.0   \n",
       "5        NaN        NaN        NaN        NaN        NaN        NaN   \n",
       "6        NaN        NaN        NaN        NaN        NaN        NaN   \n",
       "7        NaN        NaN        NaN        NaN        NaN        NaN   \n",
       "8        NaN        NaN        NaN        NaN        NaN        NaN   \n",
       "9        NaN        NaN        NaN        NaN        NaN        NaN   \n",
       "\n",
       "   3/31/2020  4/1/2020  4/2/2020  4/3/2020  \n",
       "0   750890.0  823626.0  896450.0  972303.0  \n",
       "1    36405.0   40598.0   45525.0   50321.0  \n",
       "2    82545.0   82631.0   82724.0   82802.0  \n",
       "3   668345.0  740995.0  813726.0  889501.0  \n",
       "4     3314.0    3321.0    3327.0    3331.0  \n",
       "5        NaN       NaN       NaN       NaN  \n",
       "6        NaN       NaN       NaN       NaN  \n",
       "7        NaN       NaN       NaN       NaN  \n",
       "8        NaN       NaN       NaN       NaN  \n",
       "9        NaN       NaN       NaN       NaN  \n",
       "\n",
       "[10 rows x 77 columns]"
      ]
     },
     "execution_count": 2,
     "metadata": {},
     "output_type": "execute_result"
    }
   ],
   "source": [
    "# Source data from John Hokpins university reposotiry\n",
    "jhu_link = \"https://raw.githubusercontent.com/CSSEGISandData/COVID-19/master/who_covid_19_situation_reports/who_covid_19_sit_rep_time_series/who_covid_19_sit_rep_time_series.csv\"\n",
    "jhu_df = pd.read_csv(jhu_link)\n",
    "# Explore the dataset\n",
    "jhu_df.head(10)"
   ]
  },
  {
   "cell_type": "markdown",
   "metadata": {},
   "source": [
    "It is observed that the column \"Province/States\" contains the name of the cities, and since the forth column a time series stamp (or index) is provided to record daily data of reported cases. Additionally, there are many days without recorded data for a number of chinese cities. This won't be an issue for parameter fitting as **Open-SIR** doesn't require uniform spacement of the observed data."
   ]
  },
  {
   "cell_type": "markdown",
   "metadata": {},
   "source": [
    "### Data preparation\n",
    "\n",
    "In the following lines, the time series for Guangdong reported cases $C(t)$ is extracted from the original dataframe. Thereafter, the columns are converted to a pandas date time index in order to perform further data preparation steps."
   ]
  },
  {
   "cell_type": "code",
   "execution_count": 3,
   "metadata": {},
   "outputs": [],
   "source": [
    "China = jhu_df[jhu_df[jhu_df.columns[1]]==\"China\"]\n",
    "city_name = \"Guangdong\"\n",
    "city = China[China[\"Province/States\"] == city_name]\n",
    "city = city.drop(columns=[\"Province/States\", \"Country/Region\", \"WHO region\",])\n",
    "time_index = pd.to_datetime(city.columns)\n",
    "data = city.values\n",
    "# Visualize the time\n",
    "ts = pd.Series(data = city.values[0], index = time_index)"
   ]
  },
  {
   "cell_type": "code",
   "execution_count": 25,
   "metadata": {},
   "outputs": [
    {
     "data": {
      "text/html": [
       "<div>\n",
       "<style scoped>\n",
       "    .dataframe tbody tr th:only-of-type {\n",
       "        vertical-align: middle;\n",
       "    }\n",
       "\n",
       "    .dataframe tbody tr th {\n",
       "        vertical-align: top;\n",
       "    }\n",
       "\n",
       "    .dataframe thead th {\n",
       "        text-align: right;\n",
       "    }\n",
       "</style>\n",
       "<table border=\"1\" class=\"dataframe\">\n",
       "  <thead>\n",
       "    <tr style=\"text-align: right;\">\n",
       "      <th></th>\n",
       "      <th>1/21/2020</th>\n",
       "      <th>1/22/2020</th>\n",
       "      <th>1/23/2020</th>\n",
       "      <th>1/24/2020</th>\n",
       "      <th>1/25/2020</th>\n",
       "      <th>1/26/2020</th>\n",
       "      <th>1/27/2020</th>\n",
       "      <th>1/28/2020</th>\n",
       "      <th>1/29/2020</th>\n",
       "      <th>1/30/2020</th>\n",
       "      <th>...</th>\n",
       "      <th>3/25/2020</th>\n",
       "      <th>3/26/2020</th>\n",
       "      <th>3/27/2020</th>\n",
       "      <th>3/28/2020</th>\n",
       "      <th>3/29/2020</th>\n",
       "      <th>3/30/2020</th>\n",
       "      <th>3/31/2020</th>\n",
       "      <th>4/1/2020</th>\n",
       "      <th>4/2/2020</th>\n",
       "      <th>4/3/2020</th>\n",
       "    </tr>\n",
       "  </thead>\n",
       "  <tbody>\n",
       "    <tr>\n",
       "      <th>6</th>\n",
       "      <td>14.0</td>\n",
       "      <td>17.0</td>\n",
       "      <td>26.0</td>\n",
       "      <td>32.0</td>\n",
       "      <td>NaN</td>\n",
       "      <td>NaN</td>\n",
       "      <td>NaN</td>\n",
       "      <td>NaN</td>\n",
       "      <td>NaN</td>\n",
       "      <td>NaN</td>\n",
       "      <td>...</td>\n",
       "      <td>NaN</td>\n",
       "      <td>NaN</td>\n",
       "      <td>NaN</td>\n",
       "      <td>NaN</td>\n",
       "      <td>NaN</td>\n",
       "      <td>NaN</td>\n",
       "      <td>NaN</td>\n",
       "      <td>NaN</td>\n",
       "      <td>NaN</td>\n",
       "      <td>NaN</td>\n",
       "    </tr>\n",
       "  </tbody>\n",
       "</table>\n",
       "<p>1 rows × 74 columns</p>\n",
       "</div>"
      ],
      "text/plain": [
       "   1/21/2020  1/22/2020  1/23/2020  1/24/2020  1/25/2020  1/26/2020  \\\n",
       "6       14.0       17.0       26.0       32.0        NaN        NaN   \n",
       "\n",
       "   1/27/2020  1/28/2020  1/29/2020  1/30/2020  ...  3/25/2020  3/26/2020  \\\n",
       "6        NaN        NaN        NaN        NaN  ...        NaN        NaN   \n",
       "\n",
       "   3/27/2020  3/28/2020  3/29/2020  3/30/2020  3/31/2020  4/1/2020  4/2/2020  \\\n",
       "6        NaN        NaN        NaN        NaN        NaN       NaN       NaN   \n",
       "\n",
       "   4/3/2020  \n",
       "6       NaN  \n",
       "\n",
       "[1 rows x 74 columns]"
      ]
     },
     "execution_count": 25,
     "metadata": {},
     "output_type": "execute_result"
    }
   ],
   "source": [
    "city"
   ]
  },
  {
   "cell_type": "markdown",
   "metadata": {},
   "source": [
    "Using the function ts.plot() a quick visualization of the dataset is obtained:"
   ]
  },
  {
   "cell_type": "code",
   "execution_count": 4,
   "metadata": {
    "scrolled": false
   },
   "outputs": [
    {
     "data": {
      "image/png": "[encoded data removed]",
      "text/plain": [
       "<Figure size 432x288 with 1 Axes>"
      ]
     },
     "metadata": {
      "needs_background": "light"
     },
     "output_type": "display_data"
    }
   ],
   "source": [
    "ts.plot()\n",
    "plt.show()"
   ]
  },
  {
   "cell_type": "code",
   "execution_count": null,
   "metadata": {},
   "outputs": [],
   "source": []
  },
  {
   "cell_type": "code",
   "execution_count": null,
   "metadata": {},
   "outputs": [],
   "source": []
  },
  {
   "cell_type": "code",
   "execution_count": 6,
   "metadata": {},
   "outputs": [],
   "source": [
    "df = pd.read_csv('CasesDeathsRecoveredFrance.csv', index_col=0)"
   ]
  },
  {
   "cell_type": "code",
   "execution_count": 7,
   "metadata": {},
   "outputs": [
    {
     "data": {
      "text/html": [
       "<div>\n",
       "<style scoped>\n",
       "    .dataframe tbody tr th:only-of-type {\n",
       "        vertical-align: middle;\n",
       "    }\n",
       "\n",
       "    .dataframe tbody tr th {\n",
       "        vertical-align: top;\n",
       "    }\n",
       "\n",
       "    .dataframe thead th {\n",
       "        text-align: right;\n",
       "    }\n",
       "</style>\n",
       "<table border=\"1\" class=\"dataframe\">\n",
       "  <thead>\n",
       "    <tr style=\"text-align: right;\">\n",
       "      <th></th>\n",
       "      <th>Country/Region</th>\n",
       "      <th>1/22/20</th>\n",
       "      <th>1/23/20</th>\n",
       "      <th>1/24/20</th>\n",
       "      <th>1/25/20</th>\n",
       "      <th>1/26/20</th>\n",
       "      <th>1/27/20</th>\n",
       "      <th>1/28/20</th>\n",
       "      <th>1/29/20</th>\n",
       "      <th>1/30/20</th>\n",
       "      <th>...</th>\n",
       "      <th>4/20/20</th>\n",
       "      <th>4/21/20</th>\n",
       "      <th>4/22/20</th>\n",
       "      <th>4/23/20</th>\n",
       "      <th>4/24/20</th>\n",
       "      <th>4/25/20</th>\n",
       "      <th>4/26/20</th>\n",
       "      <th>4/27/20</th>\n",
       "      <th>4/28/20</th>\n",
       "      <th>4/29/20</th>\n",
       "    </tr>\n",
       "  </thead>\n",
       "  <tbody>\n",
       "    <tr>\n",
       "      <th>cases</th>\n",
       "      <td>France</td>\n",
       "      <td>0.0</td>\n",
       "      <td>0.0</td>\n",
       "      <td>2.0</td>\n",
       "      <td>3.0</td>\n",
       "      <td>3.0</td>\n",
       "      <td>3.0</td>\n",
       "      <td>4.0</td>\n",
       "      <td>5.0</td>\n",
       "      <td>5.0</td>\n",
       "      <td>...</td>\n",
       "      <td>154188.0</td>\n",
       "      <td>156921.0</td>\n",
       "      <td>154715.0</td>\n",
       "      <td>157026.0</td>\n",
       "      <td>158636.0</td>\n",
       "      <td>160292.0</td>\n",
       "      <td>160847.0</td>\n",
       "      <td>164589.0</td>\n",
       "      <td>167605.0</td>\n",
       "      <td>165093.0</td>\n",
       "    </tr>\n",
       "    <tr>\n",
       "      <th>deaths</th>\n",
       "      <td>France</td>\n",
       "      <td>0.0</td>\n",
       "      <td>0.0</td>\n",
       "      <td>0.0</td>\n",
       "      <td>0.0</td>\n",
       "      <td>0.0</td>\n",
       "      <td>0.0</td>\n",
       "      <td>0.0</td>\n",
       "      <td>0.0</td>\n",
       "      <td>0.0</td>\n",
       "      <td>...</td>\n",
       "      <td>20265.0</td>\n",
       "      <td>20796.0</td>\n",
       "      <td>21340.0</td>\n",
       "      <td>21856.0</td>\n",
       "      <td>22245.0</td>\n",
       "      <td>22614.0</td>\n",
       "      <td>22856.0</td>\n",
       "      <td>23293.0</td>\n",
       "      <td>23660.0</td>\n",
       "      <td>24087.0</td>\n",
       "    </tr>\n",
       "    <tr>\n",
       "      <th>recovered</th>\n",
       "      <td>France</td>\n",
       "      <td>0.0</td>\n",
       "      <td>0.0</td>\n",
       "      <td>0.0</td>\n",
       "      <td>0.0</td>\n",
       "      <td>0.0</td>\n",
       "      <td>0.0</td>\n",
       "      <td>0.0</td>\n",
       "      <td>0.0</td>\n",
       "      <td>0.0</td>\n",
       "      <td>...</td>\n",
       "      <td>37409.0</td>\n",
       "      <td>39181.0</td>\n",
       "      <td>40657.0</td>\n",
       "      <td>42088.0</td>\n",
       "      <td>43493.0</td>\n",
       "      <td>44594.0</td>\n",
       "      <td>44903.0</td>\n",
       "      <td>45513.0</td>\n",
       "      <td>46886.0</td>\n",
       "      <td>48228.0</td>\n",
       "    </tr>\n",
       "  </tbody>\n",
       "</table>\n",
       "<p>3 rows × 100 columns</p>\n",
       "</div>"
      ],
      "text/plain": [
       "          Country/Region  1/22/20  1/23/20  1/24/20  1/25/20  1/26/20  \\\n",
       "cases             France      0.0      0.0      2.0      3.0      3.0   \n",
       "deaths            France      0.0      0.0      0.0      0.0      0.0   \n",
       "recovered         France      0.0      0.0      0.0      0.0      0.0   \n",
       "\n",
       "           1/27/20  1/28/20  1/29/20  1/30/20  ...   4/20/20   4/21/20  \\\n",
       "cases          3.0      4.0      5.0      5.0  ...  154188.0  156921.0   \n",
       "deaths         0.0      0.0      0.0      0.0  ...   20265.0   20796.0   \n",
       "recovered      0.0      0.0      0.0      0.0  ...   37409.0   39181.0   \n",
       "\n",
       "            4/22/20   4/23/20   4/24/20   4/25/20   4/26/20   4/27/20  \\\n",
       "cases      154715.0  157026.0  158636.0  160292.0  160847.0  164589.0   \n",
       "deaths      21340.0   21856.0   22245.0   22614.0   22856.0   23293.0   \n",
       "recovered   40657.0   42088.0   43493.0   44594.0   44903.0   45513.0   \n",
       "\n",
       "            4/28/20   4/29/20  \n",
       "cases      167605.0  165093.0  \n",
       "deaths      23660.0   24087.0  \n",
       "recovered   46886.0   48228.0  \n",
       "\n",
       "[3 rows x 100 columns]"
      ]
     },
     "execution_count": 7,
     "metadata": {},
     "output_type": "execute_result"
    }
   ],
   "source": [
    "df.head()"
   ]
  },
  {
   "cell_type": "code",
   "execution_count": 8,
   "metadata": {},
   "outputs": [],
   "source": [
    "df = df.drop(columns=['Country/Region'])\n",
    "time_index = pd.to_datetime(df.columns)\n",
    "data = df.iloc[0, :].values\n",
    "\n",
    "ts = pd.Series(data = data, index = time_index) "
   ]
  },
  {
   "cell_type": "code",
   "execution_count": 9,
   "metadata": {},
   "outputs": [
    {
     "data": {
      "text/plain": [
       "<matplotlib.axes._subplots.AxesSubplot at 0x279c69a37c8>"
      ]
     },
     "execution_count": 9,
     "metadata": {},
     "output_type": "execute_result"
    },
    {
     "data": {
      "image/png": "[encoded data removed]",
      "text/plain": [
       "<Figure size 432x288 with 1 Axes>"
      ]
     },
     "metadata": {
      "needs_background": "light"
     },
     "output_type": "display_data"
    }
   ],
   "source": [
    "ts.plot()"
   ]
  },
  {
   "cell_type": "code",
   "execution_count": 10,
   "metadata": {},
   "outputs": [],
   "source": [
    "ts_num = pd.to_numeric(ts.index)\n",
    "t0 = ts_num[0]\n",
    "t_days = (ts_num-t0)/(10**9*86400)\n",
    "t_days = t_days.astype(int).values"
   ]
  },
  {
   "cell_type": "code",
   "execution_count": 11,
   "metadata": {},
   "outputs": [
    {
     "data": {
      "text/plain": [
       "array([ 0,  1,  2,  3,  4,  5,  6,  7,  8,  9, 10, 11, 12, 13, 14, 15, 16,\n",
       "       17, 18, 19, 20, 21, 22, 23, 24, 25, 26, 27, 28, 29, 30, 31, 32, 33,\n",
       "       34, 35, 36, 37, 38, 39, 40, 41, 42, 43, 44, 45, 46, 47, 48, 49, 50,\n",
       "       51, 52, 53, 54, 55, 56, 57, 58, 59, 60, 61, 62, 63, 64, 65, 66, 67,\n",
       "       68, 69, 70, 71, 72, 73, 74, 75, 76, 77, 78, 79, 80, 81, 82, 83, 84,\n",
       "       85, 86, 87, 88, 89, 90, 91, 92, 93, 94, 95, 96, 97, 98],\n",
       "      dtype=int64)"
      ]
     },
     "execution_count": 11,
     "metadata": {},
     "output_type": "execute_result"
    }
   ],
   "source": [
    "t_days"
   ]
  },
  {
   "cell_type": "code",
   "execution_count": null,
   "metadata": {},
   "outputs": [],
   "source": []
  },
  {
   "cell_type": "code",
   "execution_count": null,
   "metadata": {},
   "outputs": [],
   "source": []
  },
  {
   "cell_type": "code",
   "execution_count": null,
   "metadata": {},
   "outputs": [],
   "source": []
  },
  {
   "cell_type": "markdown",
   "metadata": {},
   "source": [
    "Data cleaning"
   ]
  },
  {
   "cell_type": "code",
   "execution_count": 49,
   "metadata": {},
   "outputs": [],
   "source": [
    "ts_clean = ts.dropna()\n",
    "# Extract data\n",
    "ts_fit = ts_clean['2020-01-21':\"2020-02-12\"]\n",
    "# Convert index to numeric\n",
    "ts_num = pd.to_numeric(ts_fit.index)\n",
    "t0 = ts_num[0]\n",
    "# Convert datetime to days\n",
    "t_days = (ts_num-t0)/(10**9*86400)\n",
    "t_days = t_days.astype(int).values\n",
    "# t_days is an input for SIR"
   ]
  },
  {
   "cell_type": "code",
   "execution_count": 73,
   "metadata": {},
   "outputs": [],
   "source": [
    "# Define the X number\n",
    "nX = ts_fit.values # Number of infected\n",
    "N = 104.3e6 # Population size of Guangdong"
   ]
  },
  {
   "cell_type": "code",
   "execution_count": 23,
   "metadata": {},
   "outputs": [],
   "source": [
    "# Define the X number\n",
    "nX = ts.values # Number of infected\n",
    "N = 65000000 # Population size of Guangdong"
   ]
  },
  {
   "cell_type": "markdown",
   "metadata": {},
   "source": [
    "Exploration of the dataset"
   ]
  },
  {
   "cell_type": "code",
   "execution_count": 24,
   "metadata": {},
   "outputs": [
    {
     "data": {
      "image/png": "[encoded data removed]",
      "text/plain": [
       "<Figure size 432x288 with 1 Axes>"
      ]
     },
     "metadata": {
      "needs_background": "light"
     },
     "output_type": "display_data"
    }
   ],
   "source": [
    "ts.plot(style='ro')\n",
    "plt.xlabel(\"Number of infected\")\n",
    "plt.show()"
   ]
  },
  {
   "cell_type": "markdown",
   "metadata": {},
   "source": [
    "The missing data between the 25th of January and the 31st of January doesn't prevent to fit the SIR-X model"
   ]
  },
  {
   "cell_type": "markdown",
   "metadata": {},
   "source": [
    "### Setting up SIR and SIR-X models"
   ]
  },
  {
   "cell_type": "markdown",
   "metadata": {},
   "source": [
    "The population $N$ of the city is a necessary input for the model. In this notebook, this was hardocded, but it can be sourced directly from a web source.\n",
    "\n",
    "Note that whilst the SIR model estimates directly the number of infected people, $N I(t)$, SIR-X estimates the number of infected people based on the number of tested cases that are in quarantine or in an hospital $N X(t)$"
   ]
  },
  {
   "cell_type": "code",
   "execution_count": 25,
   "metadata": {},
   "outputs": [],
   "source": [
    "# These lines are required only if opensir wasn't installed using pip install, or if opensir is running in the pipenv virtual environment\n",
    "import sys\n",
    "path_opensir = './'\n",
    "sys.path.append(path_opensir)\n",
    "\n",
    "# Import SIR and SIRX models\n",
    "from opensir.models import SIR, SIRX\n",
    "nX = ts.values # Number of observed infections of the time series\n",
    "N = 104.3e6 # Population size of Guangdong\n",
    "params = [0.95, 0.38]\n",
    "w0 = (N-nX[0], nX[0], 0)\n",
    "\n",
    "G_sir = SIR()\n",
    "G_sir.set_params(p=params, initial_conds=w0)\n",
    "G_sir.fit_input=2\n",
    "G_sir.fit(t_days, nX, N)\n",
    "G_sir.solve(t_days[-1], t_days[-1]+1)\n",
    "t_SIR = G_sir.fetch()[:,0]\n",
    "I_SIR = G_sir.fetch()[:,2]"
   ]
  },
  {
   "cell_type": "code",
   "execution_count": 26,
   "metadata": {},
   "outputs": [
    {
     "data": {
      "image/png": "[encoded data removed]",
      "text/plain": [
       "<Figure size 432x288 with 1 Axes>"
      ]
     },
     "metadata": {
      "needs_background": "light"
     },
     "output_type": "display_data"
    }
   ],
   "source": [
    "plt.plot(t_SIR, I_SIR)\n",
    "plt.plot(t_days, nX, 'ro')\n",
    "plt.show()"
   ]
  },
  {
   "cell_type": "markdown",
   "metadata": {},
   "source": [
    "The SIR model is clearly not appropriate to fit this data. We will repeat the process with a SIR-X model"
   ]
  },
  {
   "cell_type": "code",
   "execution_count": 27,
   "metadata": {},
   "outputs": [],
   "source": [
    "g_sirx = SIRX()\n",
    "params = [6.2/8, 1/8, 0.05, 0.05, 5]\n",
    "# X_0 can be directly ontained from the statistics\n",
    "n_x0 = nX[0]            # Number of people tested positive\n",
    "n_i0 = nX[0]\n",
    "\n",
    "w0 = (N-n_x0-n_i0, n_i0, 0, n_x0)\n",
    "g_sirx.set_params(p=params, initial_conds=w0)\n",
    "# Fit all parameters\n",
    "fit_index=[False, False, True, True, True]\n",
    "g_sirx.fit(t_days, nX, N, fit_index = fit_index)\n",
    "g_sirx.solve(t_days[-1], t_days[-1]+1)\n",
    "t_sirx = g_sirx.fetch()[:,0]\n",
    "inf_sirx = g_sirx.fetch()[:,4]"
   ]
  },
  {
   "cell_type": "code",
   "execution_count": 28,
   "metadata": {},
   "outputs": [
    {
     "data": {
      "text/plain": [
       "array([0.775, 0.125, 0.05 , 0.05 , 5.   ])"
      ]
     },
     "execution_count": 28,
     "metadata": {},
     "output_type": "execute_result"
    }
   ],
   "source": [
    "g_sirx.p"
   ]
  },
  {
   "cell_type": "code",
   "execution_count": 29,
   "metadata": {},
   "outputs": [
    {
     "data": {
      "image/png": "[encoded data removed]",
      "text/plain": [
       "<Figure size 432x288 with 1 Axes>"
      ]
     },
     "metadata": {
      "needs_background": "light"
     },
     "output_type": "display_data"
    }
   ],
   "source": [
    "plt.plot(t_sirx, inf_sirx)\n",
    "plt.plot(t_SIR, I_SIR)\n",
    "plt.plot(t_days, nX, 'ro')\n",
    "plt.legend([\"SIR-X\", \"SIR\", \"observed\"])\n",
    "plt.title(\"Guangdong\")\n",
    "plt.show()"
   ]
  },
  {
   "cell_type": "markdown",
   "metadata": {},
   "source": [
    "After fitting the parameters, the effective infectious period $T_{I,eff}$ and the effective reproduction rate $R_{0,eff}$ can be obtained from the model properties\n",
    "\n",
    "$$ T_{I,eff} = (\\beta + \\kappa + \\kappa_0)^{-1} $$\n",
    "$$ R_{0,eff} = \\alpha T_{I,eff}$$\n",
    "\n",
    "Aditionally, the Public containment leverage $P$ and the quarantine probability $Q$ can be calculated through:\n",
    "\n",
    "$$ P = \\frac{\\kappa_0}{\\kappa_0 + \\kappa} $$\n",
    "$$ Q = \\frac{\\kappa_0 + \\kappa}{\\beta + \\kappa_0 + \\kappa} $$"
   ]
  },
  {
   "cell_type": "code",
   "execution_count": 20,
   "metadata": {},
   "outputs": [
    {
     "name": "stdout",
     "output_type": "stream",
     "text": [
      "Effective infectious period T_I_eff =  4.44 days \n",
      "Effective reproduction rate R_0_eff =  3.44, Maier and Brockmann = 3.02\n",
      "Public containment leverage =  0.50, Maier and Brockmann = 0.75\n",
      "Quarantine probability =  0.44, Maier and Brockmann = 0.51\n"
     ]
    }
   ],
   "source": [
    "print(\"Effective infectious period T_I_eff =  %.2f days \" % g_sirx.t_inf_eff )\n",
    "print(\"Effective reproduction rate R_0_eff =  %.2f, Maier and Brockmann = %.2f\" % (g_sirx.r0_eff, 3.02))\n",
    "print(\"Public containment leverage =  %.2f, Maier and Brockmann = %.2f\" % (g_sirx.pcl, 0.75))\n",
    "print(\"Quarantine probability =  %.2f, Maier and Brockmann = %.2f\" % (g_sirx.q_prob, 0.51))"
   ]
  },
  {
   "cell_type": "markdown",
   "metadata": {},
   "source": [
    "Now we can use the model to predict when the peak will occur and what will be the maximum number of infected"
   ]
  },
  {
   "cell_type": "code",
   "execution_count": 22,
   "metadata": {},
   "outputs": [
    {
     "data": {
      "image/png": "[encoded data removed]",
      "text/plain": [
       "<Figure size 432x288 with 1 Axes>"
      ]
     },
     "metadata": {
      "needs_background": "light"
     },
     "output_type": "display_data"
    }
   ],
   "source": [
    "# Predict\n",
    "g_sirx.solve(40,41)\n",
    "# Plot\n",
    "plt.plot(g_sirx.fetch()[:,4]) # X(t)\n",
    "plt.plot(g_sirx.fetch()[:,2]) # I(t)\n",
    "plt.xlabel('Day')\n",
    "plt.ylabel('Number of people')\n",
    "plt.legend([\"X(t): tested and quarantined\",\"I(t) = infected\"])\n",
    "plt.title('s')\n",
    "plt.show()"
   ]
  },
  {
   "cell_type": "markdown",
   "metadata": {},
   "source": [
    "The model was trained with a limited amount of data. It is clear to observe that since the measures took place in Guangdong, at least 6 weels pf quarantine were necessary to control the pandemics. Note that a limitation of this model is that it predicts an equilibrium where the number of infected is 0 after a short time. In reality, this amount will decrease to a small number. What we see in the TV is the X(t) curve. After the curve \"flattens\", it is necessary to keep quarantine for more time and perform effective contact tracing of the remainder of the infected people who hasn't recovered yet."
   ]
  }
 ],
 "metadata": {
  "file_extension": ".py",
  "kernelspec": {
   "display_name": "Python 3",
   "language": "python",
   "name": "python3"
  },
  "language_info": {
   "codemirror_mode": {
    "name": "ipython",
    "version": 3
   },
   "file_extension": ".py",
   "mimetype": "text/x-python",
   "name": "python",
   "nbconvert_exporter": "python",
   "pygments_lexer": "ipython3",
   "version": "3.7.7"
  },
  "mimetype": "text/x-python",
  "name": "python",
  "npconvert_exporter": "python",
  "pygments_lexer": "ipython3",
  "version": 3
 },
 "nbformat": 4,
 "nbformat_minor": 2
}
